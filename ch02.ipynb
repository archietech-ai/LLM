{
  "cells": [
    {
      "cell_type": "markdown",
      "metadata": {
        "id": "view-in-github",
        "colab_type": "text"
      },
      "source": [
        "<a href=\"https://colab.research.google.com/github/archietech-ai/LLM/blob/main/ch02.ipynb\" target=\"_parent\"><img src=\"https://colab.research.google.com/assets/colab-badge.svg\" alt=\"Open In Colab\"/></a>"
      ]
    },
    {
      "cell_type": "markdown",
      "id": "d95f841a-63c9-41d4-aea1-496b3d2024dd",
      "metadata": {
        "id": "d95f841a-63c9-41d4-aea1-496b3d2024dd"
      },
      "source": [
        "<table style=\"width:100%\">\n",
        "<tr>\n",
        "<td style=\"vertical-align:middle; text-align:left;\">\n",
        "<font size=\"2\">\n",
        "Supplementary code for the <a href=\"http://mng.bz/orYv\">Build a Large Language Model From Scratch</a> book by <a href=\"https://sebastianraschka.com\">Sebastian Raschka</a><br>\n",
        "<br>Code repository: <a href=\"https://github.com/rasbt/LLMs-from-scratch\">https://github.com/rasbt/LLMs-from-scratch</a>\n",
        "</font>\n",
        "</td>\n",
        "<td style=\"vertical-align:middle; text-align:left;\">\n",
        "<a href=\"http://mng.bz/orYv\"><img src=\"https://sebastianraschka.com/images/LLMs-from-scratch-images/cover-small.webp\" width=\"100px\"></a>\n",
        "</td>\n",
        "</tr>\n",
        "</table>\n"
      ]
    },
    {
      "cell_type": "markdown",
      "id": "25aa40e3-5109-433f-9153-f5770531fe94",
      "metadata": {
        "id": "25aa40e3-5109-433f-9153-f5770531fe94"
      },
      "source": [
        "# Chapter 2: Working with Text"
      ]
    },
    {
      "cell_type": "markdown",
      "id": "76d5d2c0-cba8-404e-9bf3-71a218cae3cf",
      "metadata": {
        "id": "76d5d2c0-cba8-404e-9bf3-71a218cae3cf"
      },
      "source": [
        "Packages that are being used in this notebook:"
      ]
    },
    {
      "cell_type": "code",
      "source": [
        "!pip install tiktoken\n"
      ],
      "metadata": {
        "colab": {
          "base_uri": "https://localhost:8080/"
        },
        "id": "Sv0kvGfKJ_cs",
        "outputId": "5cc50ae4-e829-4f1d-c54f-546ef00eec43"
      },
      "id": "Sv0kvGfKJ_cs",
      "execution_count": 3,
      "outputs": [
        {
          "output_type": "stream",
          "name": "stdout",
          "text": [
            "Collecting tiktoken\n",
            "  Downloading tiktoken-0.8.0-cp310-cp310-manylinux_2_17_x86_64.manylinux2014_x86_64.whl.metadata (6.6 kB)\n",
            "Requirement already satisfied: regex>=2022.1.18 in /usr/local/lib/python3.10/dist-packages (from tiktoken) (2024.11.6)\n",
            "Requirement already satisfied: requests>=2.26.0 in /usr/local/lib/python3.10/dist-packages (from tiktoken) (2.32.3)\n",
            "Requirement already satisfied: charset-normalizer<4,>=2 in /usr/local/lib/python3.10/dist-packages (from requests>=2.26.0->tiktoken) (3.4.0)\n",
            "Requirement already satisfied: idna<4,>=2.5 in /usr/local/lib/python3.10/dist-packages (from requests>=2.26.0->tiktoken) (3.10)\n",
            "Requirement already satisfied: urllib3<3,>=1.21.1 in /usr/local/lib/python3.10/dist-packages (from requests>=2.26.0->tiktoken) (2.2.3)\n",
            "Requirement already satisfied: certifi>=2017.4.17 in /usr/local/lib/python3.10/dist-packages (from requests>=2.26.0->tiktoken) (2024.12.14)\n",
            "Downloading tiktoken-0.8.0-cp310-cp310-manylinux_2_17_x86_64.manylinux2014_x86_64.whl (1.2 MB)\n",
            "\u001b[?25l   \u001b[90m━━━━━━━━━━━━━━━━━━━━━━━━━━━━━━━━━━━━━━━━\u001b[0m \u001b[32m0.0/1.2 MB\u001b[0m \u001b[31m?\u001b[0m eta \u001b[36m-:--:--\u001b[0m\r\u001b[2K   \u001b[90m━━━━━━━━━━━━━━━━━━━━━━━━━━━━━━━━━━━━━━━━\u001b[0m \u001b[32m1.2/1.2 MB\u001b[0m \u001b[31m42.1 MB/s\u001b[0m eta \u001b[36m0:00:00\u001b[0m\n",
            "\u001b[?25hInstalling collected packages: tiktoken\n",
            "Successfully installed tiktoken-0.8.0\n"
          ]
        }
      ]
    },
    {
      "cell_type": "code",
      "execution_count": 4,
      "id": "4d1305cf-12d5-46fe-a2c9-36fb71c5b3d3",
      "metadata": {
        "colab": {
          "base_uri": "https://localhost:8080/"
        },
        "id": "4d1305cf-12d5-46fe-a2c9-36fb71c5b3d3",
        "outputId": "772ada62-3ba7-4186-b948-b34530fa709a"
      },
      "outputs": [
        {
          "output_type": "stream",
          "name": "stdout",
          "text": [
            "torch version: 2.5.1+cu121\n",
            "tiktoken version: 0.8.0\n"
          ]
        }
      ],
      "source": [
        "from importlib.metadata import version # This Python code imports the version function from the importlib.metadata module, which is part of Python's standard library. This function is used to get version information about installed Python packages.\n",
        "\n",
        "print(\"torch version:\", version(\"torch\"))\n",
        "print(\"tiktoken version:\", version(\"tiktoken\"))"
      ]
    },
    {
      "cell_type": "markdown",
      "id": "5a42fbfd-e3c2-43c2-bc12-f5f870a0b10a",
      "metadata": {
        "id": "5a42fbfd-e3c2-43c2-bc12-f5f870a0b10a"
      },
      "source": [
        "- This chapter covers data preparation and sampling to get input data \"ready\" for the LLM"
      ]
    },
    {
      "cell_type": "markdown",
      "id": "628b2922-594d-4ff9-bd82-04f1ebdf41f5",
      "metadata": {
        "id": "628b2922-594d-4ff9-bd82-04f1ebdf41f5"
      },
      "source": [
        "<img src=\"https://sebastianraschka.com/images/LLMs-from-scratch-images/ch02_compressed/01.webp?timestamp=1\" width=\"500px\">"
      ]
    },
    {
      "cell_type": "markdown",
      "id": "2417139b-2357-44d2-bd67-23f5d7f52ae7",
      "metadata": {
        "id": "2417139b-2357-44d2-bd67-23f5d7f52ae7"
      },
      "source": [
        "## 2.1 Understanding word embeddings"
      ]
    },
    {
      "cell_type": "markdown",
      "id": "0b6816ae-e927-43a9-b4dd-e47a9b0e1cf6",
      "metadata": {
        "id": "0b6816ae-e927-43a9-b4dd-e47a9b0e1cf6"
      },
      "source": [
        "- No code in this section"
      ]
    },
    {
      "cell_type": "markdown",
      "id": "4f69dab7-a433-427a-9e5b-b981062d6296",
      "metadata": {
        "id": "4f69dab7-a433-427a-9e5b-b981062d6296"
      },
      "source": [
        "- There are many forms of embeddings; we focus on text embeddings in this book"
      ]
    },
    {
      "cell_type": "markdown",
      "id": "ba08d16f-f237-4166-bf89-0e9fe703e7b4",
      "metadata": {
        "id": "ba08d16f-f237-4166-bf89-0e9fe703e7b4"
      },
      "source": [
        "<img src=\"https://sebastianraschka.com/images/LLMs-from-scratch-images/ch02_compressed/02.webp\" width=\"500px\">"
      ]
    },
    {
      "cell_type": "markdown",
      "id": "288c4faf-b93a-4616-9276-7a4aa4b5e9ba",
      "metadata": {
        "id": "288c4faf-b93a-4616-9276-7a4aa4b5e9ba"
      },
      "source": [
        "- LLMs work with embeddings in high-dimensional spaces (i.e., thousands of dimensions)\n",
        "- Since we can't visualize such high-dimensional spaces (we humans think in 1, 2, or 3 dimensions), the figure below illustrates a 2-dimensional embedding space"
      ]
    },
    {
      "cell_type": "markdown",
      "id": "d6b80160-1f10-4aad-a85e-9c79444de9e6",
      "metadata": {
        "id": "d6b80160-1f10-4aad-a85e-9c79444de9e6"
      },
      "source": [
        "<img src=\"https://sebastianraschka.com/images/LLMs-from-scratch-images/ch02_compressed/03.webp\" width=\"300px\">"
      ]
    },
    {
      "cell_type": "markdown",
      "id": "eddbb984-8d23-40c5-bbfa-c3c379e7eec3",
      "metadata": {
        "id": "eddbb984-8d23-40c5-bbfa-c3c379e7eec3"
      },
      "source": [
        "## 2.2 Tokenizing text"
      ]
    },
    {
      "cell_type": "markdown",
      "id": "f9c90731-7dc9-4cd3-8c4a-488e33b48e80",
      "metadata": {
        "id": "f9c90731-7dc9-4cd3-8c4a-488e33b48e80"
      },
      "source": [
        "- In this section, we tokenize text, which means breaking text into smaller units, such as individual words and punctuation characters"
      ]
    },
    {
      "cell_type": "markdown",
      "id": "09872fdb-9d4e-40c4-949d-52a01a43ec4b",
      "metadata": {
        "id": "09872fdb-9d4e-40c4-949d-52a01a43ec4b"
      },
      "source": [
        "<img src=\"https://sebastianraschka.com/images/LLMs-from-scratch-images/ch02_compressed/04.webp\" width=\"300px\">"
      ]
    },
    {
      "cell_type": "markdown",
      "id": "8cceaa18-833d-46b6-b211-b20c53902805",
      "metadata": {
        "id": "8cceaa18-833d-46b6-b211-b20c53902805"
      },
      "source": [
        "- Load raw text we want to work with\n",
        "- [The Verdict by Edith Wharton](https://en.wikisource.org/wiki/The_Verdict) is a public domain short story"
      ]
    },
    {
      "cell_type": "code",
      "execution_count": 5,
      "id": "40f9d9b1-6d32-485a-825a-a95392a86d79",
      "metadata": {
        "id": "40f9d9b1-6d32-485a-825a-a95392a86d79"
      },
      "outputs": [],
      "source": [
        "import os\n",
        "import urllib.request\n",
        "\n",
        "if not os.path.exists(\"the-verdict.txt\"):\n",
        "    url = (\"https://raw.githubusercontent.com/rasbt/\"\n",
        "           \"LLMs-from-scratch/main/ch02/01_main-chapter-code/\"\n",
        "           \"the-verdict.txt\")\n",
        "    file_path = \"the-verdict.txt\"\n",
        "    urllib.request.urlretrieve(url, file_path)"
      ]
    },
    {
      "cell_type": "markdown",
      "id": "56488f2c-a2b8-49f1-aaeb-461faad08dce",
      "metadata": {
        "id": "56488f2c-a2b8-49f1-aaeb-461faad08dce"
      },
      "source": [
        "- (If you encounter an `ssl.SSLCertVerificationError` when executing the previous code cell, it might be due to using an outdated Python version; you can find [more information here on GitHub](https://github.com/rasbt/LLMs-from-scratch/pull/403))"
      ]
    },
    {
      "cell_type": "code",
      "execution_count": 6,
      "id": "8a769e87-470a-48b9-8bdb-12841b416198",
      "metadata": {
        "colab": {
          "base_uri": "https://localhost:8080/"
        },
        "id": "8a769e87-470a-48b9-8bdb-12841b416198",
        "outputId": "ee99f159-0970-415f-edc1-715b85171ed9"
      },
      "outputs": [
        {
          "output_type": "stream",
          "name": "stdout",
          "text": [
            "Total number of character: 20479\n",
            "I HAD always thought Jack Gisburn rather a cheap genius--though a good fellow enough--so it was no \n"
          ]
        }
      ],
      "source": [
        "with open(\"the-verdict.txt\", \"r\", encoding=\"utf-8\") as f:\n",
        "    raw_text = f.read()\n",
        "\n",
        "print(\"Total number of character:\", len(raw_text))\n",
        "print(raw_text[:99])"
      ]
    },
    {
      "cell_type": "markdown",
      "id": "9b971a46-ac03-4368-88ae-3f20279e8f4e",
      "metadata": {
        "id": "9b971a46-ac03-4368-88ae-3f20279e8f4e"
      },
      "source": [
        "- The goal is to tokenize and embed this text for an LLM\n",
        "- Let's develop a simple tokenizer based on some simple sample text that we can then later apply to the text above\n",
        "- The following regular expression will split on whitespaces"
      ]
    },
    {
      "cell_type": "code",
      "execution_count": 7,
      "id": "737dd5b0-9dbb-4a97-9ae4-3482c8c04be7",
      "metadata": {
        "colab": {
          "base_uri": "https://localhost:8080/"
        },
        "id": "737dd5b0-9dbb-4a97-9ae4-3482c8c04be7",
        "outputId": "f7aca2a4-92d0-46e1-e513-6bfbb1e3e71a"
      },
      "outputs": [
        {
          "output_type": "stream",
          "name": "stdout",
          "text": [
            "['Hello,', ' ', 'world.', ' ', 'This,', ' ', 'is', ' ', 'a', ' ', 'test.']\n"
          ]
        }
      ],
      "source": [
        "import re\n",
        "\n",
        "text = \"Hello, world. This, is a test.\"\n",
        "result = re.split(r'(\\s)', text)\n",
        "\n",
        "print(result)"
      ]
    },
    {
      "cell_type": "markdown",
      "id": "a8c40c18-a9d5-4703-bf71-8261dbcc5ee3",
      "metadata": {
        "id": "a8c40c18-a9d5-4703-bf71-8261dbcc5ee3"
      },
      "source": [
        "- We don't only want to split on whitespaces but also commas and periods, so let's modify the regular expression to do that as well"
      ]
    },
    {
      "cell_type": "code",
      "execution_count": 8,
      "id": "ea02489d-01f9-4247-b7dd-a0d63f62ef07",
      "metadata": {
        "colab": {
          "base_uri": "https://localhost:8080/"
        },
        "id": "ea02489d-01f9-4247-b7dd-a0d63f62ef07",
        "outputId": "c1ee022e-76a6-4ad1-9787-69929a83c28b"
      },
      "outputs": [
        {
          "output_type": "stream",
          "name": "stdout",
          "text": [
            "['Hello', ',', '', ' ', 'world', '.', '', ' ', 'This', ',', '', ' ', 'is', ' ', 'a', ' ', 'test', '.', '']\n"
          ]
        }
      ],
      "source": [
        "result = re.split(r'([,.]|\\s)', text)\n",
        "\n",
        "print(result)"
      ]
    },
    {
      "cell_type": "markdown",
      "id": "461d0c86-e3af-4f87-8fae-594a9ca9b6ad",
      "metadata": {
        "id": "461d0c86-e3af-4f87-8fae-594a9ca9b6ad"
      },
      "source": [
        "- As we can see, this creates empty strings, let's remove them"
      ]
    },
    {
      "cell_type": "code",
      "execution_count": 9,
      "id": "4d8a6fb7-2e62-4a12-ad06-ccb04f25fed7",
      "metadata": {
        "colab": {
          "base_uri": "https://localhost:8080/"
        },
        "id": "4d8a6fb7-2e62-4a12-ad06-ccb04f25fed7",
        "outputId": "05916293-7ede-4e17-e391-c42e36c41994"
      },
      "outputs": [
        {
          "output_type": "stream",
          "name": "stdout",
          "text": [
            "['Hello', ',', 'world', '.', 'This', ',', 'is', 'a', 'test', '.']\n"
          ]
        }
      ],
      "source": [
        "# Strip whitespace from each item and then filter out any empty strings.\n",
        "result = [item for item in result if item.strip()]\n",
        "print(result)"
      ]
    },
    {
      "cell_type": "markdown",
      "id": "250e8694-181e-496f-895d-7cb7d92b5562",
      "metadata": {
        "id": "250e8694-181e-496f-895d-7cb7d92b5562"
      },
      "source": [
        "- This looks pretty good, but let's also handle other types of punctuation, such as periods, question marks, and so on"
      ]
    },
    {
      "cell_type": "code",
      "execution_count": 10,
      "id": "ed3a9467-04b4-49d9-96c5-b8042bcf8374",
      "metadata": {
        "colab": {
          "base_uri": "https://localhost:8080/"
        },
        "id": "ed3a9467-04b4-49d9-96c5-b8042bcf8374",
        "outputId": "6b19c76f-f65c-4ee6-b8cd-7ee96201d4c8"
      },
      "outputs": [
        {
          "output_type": "stream",
          "name": "stdout",
          "text": [
            "['Hello', ',', 'world', '.', 'Is', 'this', '--', 'a', 'test', '?']\n"
          ]
        }
      ],
      "source": [
        "text = \"Hello, world. Is this-- a test?\"\n",
        "\n",
        "result = re.split(r'([,.:;?_!\"()\\']|--|\\s)', text)\n",
        "result = [item.strip() for item in result if item.strip()]\n",
        "print(result)"
      ]
    },
    {
      "cell_type": "markdown",
      "id": "5bbea70b-c030-45d9-b09d-4318164c0bb4",
      "metadata": {
        "id": "5bbea70b-c030-45d9-b09d-4318164c0bb4"
      },
      "source": [
        "- This is pretty good, and we are now ready to apply this tokenization to the raw text"
      ]
    },
    {
      "cell_type": "markdown",
      "id": "6cbe9330-b587-4262-be9f-497a84ec0e8a",
      "metadata": {
        "id": "6cbe9330-b587-4262-be9f-497a84ec0e8a"
      },
      "source": [
        "<img src=\"https://sebastianraschka.com/images/LLMs-from-scratch-images/ch02_compressed/05.webp\" width=\"350px\">"
      ]
    },
    {
      "cell_type": "code",
      "execution_count": 11,
      "id": "8c567caa-8ff5-49a8-a5cc-d365b0a78a99",
      "metadata": {
        "colab": {
          "base_uri": "https://localhost:8080/"
        },
        "id": "8c567caa-8ff5-49a8-a5cc-d365b0a78a99",
        "outputId": "b5e5da31-fa44-4315-db39-a2ce2d4a6cbe"
      },
      "outputs": [
        {
          "output_type": "stream",
          "name": "stdout",
          "text": [
            "['I', 'HAD', 'always', 'thought', 'Jack', 'Gisburn', 'rather', 'a', 'cheap', 'genius', '--', 'though', 'a', 'good', 'fellow', 'enough', '--', 'so', 'it', 'was', 'no', 'great', 'surprise', 'to', 'me', 'to', 'hear', 'that', ',', 'in']\n"
          ]
        }
      ],
      "source": [
        "preprocessed = re.split(r'([,.:;?_!\"()\\']|--|\\s)', raw_text)\n",
        "preprocessed = [item.strip() for item in preprocessed if item.strip()]\n",
        "print(preprocessed[:30])"
      ]
    },
    {
      "cell_type": "markdown",
      "id": "e2a19e1a-5105-4ddb-812a-b7d3117eab95",
      "metadata": {
        "id": "e2a19e1a-5105-4ddb-812a-b7d3117eab95"
      },
      "source": [
        "- Let's calculate the total number of tokens"
      ]
    },
    {
      "cell_type": "code",
      "execution_count": 12,
      "id": "35db7b5e-510b-4c45-995f-f5ad64a8e19c",
      "metadata": {
        "colab": {
          "base_uri": "https://localhost:8080/"
        },
        "id": "35db7b5e-510b-4c45-995f-f5ad64a8e19c",
        "outputId": "8386c08f-582a-47f3-e52f-10e735447b57"
      },
      "outputs": [
        {
          "output_type": "stream",
          "name": "stdout",
          "text": [
            "4690\n"
          ]
        }
      ],
      "source": [
        "print(len(preprocessed))"
      ]
    },
    {
      "cell_type": "markdown",
      "id": "0b5ce8fe-3a07-4f2a-90f1-a0321ce3a231",
      "metadata": {
        "id": "0b5ce8fe-3a07-4f2a-90f1-a0321ce3a231"
      },
      "source": [
        "## 2.3 Converting tokens into token IDs"
      ]
    },
    {
      "cell_type": "markdown",
      "id": "a5204973-f414-4c0d-87b0-cfec1f06e6ff",
      "metadata": {
        "id": "a5204973-f414-4c0d-87b0-cfec1f06e6ff"
      },
      "source": [
        "- Next, we convert the text tokens into token IDs that we can process via embedding layers later"
      ]
    },
    {
      "cell_type": "markdown",
      "id": "177b041d-f739-43b8-bd81-0443ae3a7f8d",
      "metadata": {
        "id": "177b041d-f739-43b8-bd81-0443ae3a7f8d"
      },
      "source": [
        "<img src=\"https://sebastianraschka.com/images/LLMs-from-scratch-images/ch02_compressed/06.webp\" width=\"500px\">"
      ]
    },
    {
      "cell_type": "markdown",
      "id": "b5973794-7002-4202-8b12-0900cd779720",
      "metadata": {
        "id": "b5973794-7002-4202-8b12-0900cd779720"
      },
      "source": [
        "- From these tokens, we can now build a vocabulary that consists of all the unique tokens"
      ]
    },
    {
      "cell_type": "code",
      "execution_count": 13,
      "id": "7fdf0533-5ab6-42a5-83fa-a3b045de6396",
      "metadata": {
        "colab": {
          "base_uri": "https://localhost:8080/"
        },
        "id": "7fdf0533-5ab6-42a5-83fa-a3b045de6396",
        "outputId": "68713331-76b7-4372-b146-f759e6c1339c"
      },
      "outputs": [
        {
          "output_type": "stream",
          "name": "stdout",
          "text": [
            "1130\n"
          ]
        }
      ],
      "source": [
        "all_words = sorted(set(preprocessed)) # set(preprocessed) creates a set from preprocessed, which removes all duplicates from the preprocessed text tokens. sorted() takes that set and sorts it alphabetically\n",
        "vocab_size = len(all_words) # len(all_words) counts how many unique tokens there are in total\n",
        "\n",
        "print(vocab_size)"
      ]
    },
    {
      "cell_type": "code",
      "execution_count": 14,
      "id": "77d00d96-881f-4691-bb03-84fec2a75a26",
      "metadata": {
        "id": "77d00d96-881f-4691-bb03-84fec2a75a26"
      },
      "outputs": [],
      "source": [
        "vocab = {token:integer for integer,token in enumerate(all_words)} # This line creates a vocabulary dictionary that maps tokens (words) to unique integer IDs."
      ]
    },
    {
      "cell_type": "markdown",
      "id": "75bd1f81-3a8f-4dd9-9dd6-e75f32dacbe3",
      "metadata": {
        "id": "75bd1f81-3a8f-4dd9-9dd6-e75f32dacbe3"
      },
      "source": [
        "- Below are the first 50 entries in this vocabulary:"
      ]
    },
    {
      "cell_type": "code",
      "execution_count": 15,
      "id": "e1c5de4a-aa4e-4aec-b532-10bb364039d6",
      "metadata": {
        "colab": {
          "base_uri": "https://localhost:8080/"
        },
        "id": "e1c5de4a-aa4e-4aec-b532-10bb364039d6",
        "outputId": "94c820e4-0f86-4b59-87c8-001159731471"
      },
      "outputs": [
        {
          "output_type": "stream",
          "name": "stdout",
          "text": [
            "('!', 0)\n",
            "('\"', 1)\n",
            "(\"'\", 2)\n",
            "('(', 3)\n",
            "(')', 4)\n",
            "(',', 5)\n",
            "('--', 6)\n",
            "('.', 7)\n",
            "(':', 8)\n",
            "(';', 9)\n",
            "('?', 10)\n",
            "('A', 11)\n",
            "('Ah', 12)\n",
            "('Among', 13)\n",
            "('And', 14)\n",
            "('Are', 15)\n",
            "('Arrt', 16)\n",
            "('As', 17)\n",
            "('At', 18)\n",
            "('Be', 19)\n",
            "('Begin', 20)\n",
            "('Burlington', 21)\n",
            "('But', 22)\n",
            "('By', 23)\n",
            "('Carlo', 24)\n",
            "('Chicago', 25)\n",
            "('Claude', 26)\n",
            "('Come', 27)\n",
            "('Croft', 28)\n",
            "('Destroyed', 29)\n",
            "('Devonshire', 30)\n",
            "('Don', 31)\n",
            "('Dubarry', 32)\n",
            "('Emperors', 33)\n",
            "('Florence', 34)\n",
            "('For', 35)\n",
            "('Gallery', 36)\n",
            "('Gideon', 37)\n",
            "('Gisburn', 38)\n",
            "('Gisburns', 39)\n",
            "('Grafton', 40)\n",
            "('Greek', 41)\n",
            "('Grindle', 42)\n",
            "('Grindles', 43)\n",
            "('HAD', 44)\n",
            "('Had', 45)\n",
            "('Hang', 46)\n",
            "('Has', 47)\n",
            "('He', 48)\n",
            "('Her', 49)\n",
            "('Hermia', 50)\n"
          ]
        }
      ],
      "source": [
        "for i, item in enumerate(vocab.items()): # enumerate(all_words) generates pairs of (index, token). If all_words = [\"hello\", \"world\", \"!\"], enumerate() produces: (0, \"hello\"), (1, \"world\"), (2, \"!\")\n",
        "    print(item)\n",
        "    if i >= 50:\n",
        "        break"
      ]
    },
    {
      "cell_type": "markdown",
      "id": "3b1dc314-351b-476a-9459-0ec9ddc29b19",
      "metadata": {
        "id": "3b1dc314-351b-476a-9459-0ec9ddc29b19"
      },
      "source": [
        "- Below, we illustrate the tokenization of a short sample text using a small vocabulary:"
      ]
    },
    {
      "cell_type": "markdown",
      "id": "67407a9f-0202-4e7c-9ed7-1b3154191ebc",
      "metadata": {
        "id": "67407a9f-0202-4e7c-9ed7-1b3154191ebc"
      },
      "source": [
        "<img src=\"https://sebastianraschka.com/images/LLMs-from-scratch-images/ch02_compressed/07.webp?123\" width=\"500px\">"
      ]
    },
    {
      "cell_type": "markdown",
      "id": "4e569647-2589-4c9d-9a5c-aef1c88a0a9a",
      "metadata": {
        "id": "4e569647-2589-4c9d-9a5c-aef1c88a0a9a"
      },
      "source": [
        "- Putting it now all together into a tokenizer class"
      ]
    },
    {
      "cell_type": "code",
      "execution_count": 16,
      "id": "f531bf46-7c25-4ef8-bff8-0d27518676d5",
      "metadata": {
        "id": "f531bf46-7c25-4ef8-bff8-0d27518676d5"
      },
      "outputs": [],
      "source": [
        "class SimpleTokenizerV1:\n",
        "    def __init__(self, vocab): # It takes a vocabulary dictionary (vocab) where words/tokens map to integers\n",
        "        self.str_to_int = vocab # maps strings to their integer IDs (this is just the input vocab)\n",
        "        self.int_to_str = {i:s for s,i in vocab.items()} # maps integer IDs back to strings (this is the reversed vocab)\n",
        "\n",
        "    def encode(self, text): # Takes a text string and converts it to token IDs\n",
        "        preprocessed = re.split(r'([,.:;?_!\"()\\']|--|\\s)', text) # Uses regex to split on punctuation and whitespace while keeping the delimiters\n",
        "\n",
        "        preprocessed = [\n",
        "            item.strip() for item in preprocessed if item.strip() # Strips whitespace and removes empty strings\n",
        "        ]\n",
        "        ids = [self.str_to_int[s] for s in preprocessed] # Converts each token to its corresponding integer ID using the vocabulary\n",
        "        return ids\n",
        "\n",
        "    def decode(self, ids): # Takes a list of token IDs and converts them back to text\n",
        "        text = \" \".join([self.int_to_str[i] for i in ids]) # Converts each ID back to its string using the reversed vocabulary\n",
        "        # Replace spaces before the specified punctuations\n",
        "        text = re.sub(r'\\s+([,.?!\"()\\'])', r'\\1', text)\n",
        "        return text"
      ]
    },
    {
      "cell_type": "markdown",
      "id": "dee7a1e5-b54f-4ca1-87ef-3d663c4ee1e7",
      "metadata": {
        "id": "dee7a1e5-b54f-4ca1-87ef-3d663c4ee1e7"
      },
      "source": [
        "- The `encode` function turns text into token IDs\n",
        "- The `decode` function turns token IDs back into text"
      ]
    },
    {
      "cell_type": "markdown",
      "id": "cc21d347-ec03-4823-b3d4-9d686e495617",
      "metadata": {
        "id": "cc21d347-ec03-4823-b3d4-9d686e495617"
      },
      "source": [
        "<img src=\"https://sebastianraschka.com/images/LLMs-from-scratch-images/ch02_compressed/08.webp?123\" width=\"500px\">"
      ]
    },
    {
      "cell_type": "markdown",
      "id": "c2950a94-6b0d-474e-8ed0-66d0c3c1a95c",
      "metadata": {
        "id": "c2950a94-6b0d-474e-8ed0-66d0c3c1a95c"
      },
      "source": [
        "- We can use the tokenizer to encode (that is, tokenize) texts into integers\n",
        "- These integers can then be embedded (later) as input of/for the LLM"
      ]
    },
    {
      "cell_type": "code",
      "execution_count": 17,
      "id": "647364ec-7995-4654-9b4a-7607ccf5f1e4",
      "metadata": {
        "colab": {
          "base_uri": "https://localhost:8080/"
        },
        "id": "647364ec-7995-4654-9b4a-7607ccf5f1e4",
        "outputId": "1c64eea6-6a86-48c3-9581-9f9381c34d05"
      },
      "outputs": [
        {
          "output_type": "stream",
          "name": "stdout",
          "text": [
            "[1, 56, 2, 850, 988, 602, 533, 746, 5, 1126, 596, 5, 1, 67, 7, 38, 851, 1108, 754, 793, 7]\n"
          ]
        }
      ],
      "source": [
        "tokenizer = SimpleTokenizerV1(vocab)\n",
        "\n",
        "text = \"\"\"\"It's the last he painted, you know,\"\n",
        "           Mrs. Gisburn said with pardonable pride.\"\"\"\n",
        "ids = tokenizer.encode(text)\n",
        "print(ids)"
      ]
    },
    {
      "cell_type": "markdown",
      "id": "3201706e-a487-4b60-b99d-5765865f29a0",
      "metadata": {
        "id": "3201706e-a487-4b60-b99d-5765865f29a0"
      },
      "source": [
        "- We can decode the integers back into text"
      ]
    },
    {
      "cell_type": "code",
      "execution_count": 18,
      "id": "01d8c8fb-432d-4a49-b332-99f23b233746",
      "metadata": {
        "colab": {
          "base_uri": "https://localhost:8080/",
          "height": 36
        },
        "id": "01d8c8fb-432d-4a49-b332-99f23b233746",
        "outputId": "87d29299-f11a-4dfb-b907-9a953dcf2712"
      },
      "outputs": [
        {
          "output_type": "execute_result",
          "data": {
            "text/plain": [
              "'\" It\\' s the last he painted, you know,\" Mrs. Gisburn said with pardonable pride.'"
            ],
            "application/vnd.google.colaboratory.intrinsic+json": {
              "type": "string"
            }
          },
          "metadata": {},
          "execution_count": 18
        }
      ],
      "source": [
        "tokenizer.decode(ids)"
      ]
    },
    {
      "cell_type": "code",
      "execution_count": 19,
      "id": "54f6aa8b-9827-412e-9035-e827296ab0fe",
      "metadata": {
        "colab": {
          "base_uri": "https://localhost:8080/",
          "height": 36
        },
        "id": "54f6aa8b-9827-412e-9035-e827296ab0fe",
        "outputId": "b62248d2-71ac-427e-d721-b02d3b7948fd"
      },
      "outputs": [
        {
          "output_type": "execute_result",
          "data": {
            "text/plain": [
              "'\" It\\' s the last he painted, you know,\" Mrs. Gisburn said with pardonable pride.'"
            ],
            "application/vnd.google.colaboratory.intrinsic+json": {
              "type": "string"
            }
          },
          "metadata": {},
          "execution_count": 19
        }
      ],
      "source": [
        "tokenizer.decode(tokenizer.encode(text))"
      ]
    },
    {
      "cell_type": "markdown",
      "id": "4b821ef8-4d53-43b6-a2b2-aef808c343c7",
      "metadata": {
        "id": "4b821ef8-4d53-43b6-a2b2-aef808c343c7"
      },
      "source": [
        "## 2.4 Adding special context tokens"
      ]
    },
    {
      "cell_type": "markdown",
      "id": "863d6d15-a3e2-44e0-b384-bb37f17cf443",
      "metadata": {
        "id": "863d6d15-a3e2-44e0-b384-bb37f17cf443"
      },
      "source": [
        "- It's useful to add some \"special\" tokens for unknown words and to denote the end of a text"
      ]
    },
    {
      "cell_type": "markdown",
      "id": "aa7fc96c-e1fd-44fb-b7f5-229d7c7922a4",
      "metadata": {
        "id": "aa7fc96c-e1fd-44fb-b7f5-229d7c7922a4"
      },
      "source": [
        "<img src=\"https://sebastianraschka.com/images/LLMs-from-scratch-images/ch02_compressed/09.webp?123\" width=\"500px\">"
      ]
    },
    {
      "cell_type": "markdown",
      "id": "9d709d57-2486-4152-b7f9-d3e4bd8634cd",
      "metadata": {
        "id": "9d709d57-2486-4152-b7f9-d3e4bd8634cd"
      },
      "source": [
        "- Some tokenizers use special tokens to help the LLM with additional context\n",
        "- Some of these special tokens are\n",
        "  - `[BOS]` (beginning of sequence) marks the beginning of text\n",
        "  - `[EOS]` (end of sequence) marks where the text ends (this is usually used to concatenate multiple unrelated texts, e.g., two different Wikipedia articles or two different books, and so on)\n",
        "  - `[PAD]` (padding) if we train LLMs with a batch size greater than 1 (we may include multiple texts with different lengths; with the padding token we pad the shorter texts to the longest length so that all texts have an equal length)\n",
        "- `[UNK]` to represent words that are not included in the vocabulary\n",
        "\n",
        "- Note that GPT-2 does not need any of these tokens mentioned above but only uses an `<|endoftext|>` token to reduce complexity\n",
        "- The `<|endoftext|>` is analogous to the `[EOS]` token mentioned above\n",
        "- GPT also uses the `<|endoftext|>` for padding (since we typically use a mask when training on batched inputs, we would not attend padded tokens anyways, so it does not matter what these tokens are)\n",
        "- GPT-2 does not use an `<UNK>` token for out-of-vocabulary words; instead, GPT-2 uses a byte-pair encoding (BPE) tokenizer, which breaks down words into subword units which we will discuss in a later section\n",
        "\n"
      ]
    },
    {
      "cell_type": "markdown",
      "id": "a336b43b-7173-49e7-bd80-527ad4efb271",
      "metadata": {
        "id": "a336b43b-7173-49e7-bd80-527ad4efb271"
      },
      "source": [
        "- We use the `<|endoftext|>` tokens between two independent sources of text:"
      ]
    },
    {
      "cell_type": "markdown",
      "id": "52442951-752c-4855-9752-b121a17fef55",
      "metadata": {
        "id": "52442951-752c-4855-9752-b121a17fef55"
      },
      "source": [
        "<img src=\"https://sebastianraschka.com/images/LLMs-from-scratch-images/ch02_compressed/10.webp\" width=\"500px\">"
      ]
    },
    {
      "cell_type": "markdown",
      "id": "c661a397-da06-4a86-ac27-072dbe7cb172",
      "metadata": {
        "id": "c661a397-da06-4a86-ac27-072dbe7cb172"
      },
      "source": [
        "- Let's see what happens if we tokenize the following text:"
      ]
    },
    {
      "cell_type": "code",
      "execution_count": 21,
      "id": "d5767eff-440c-4de1-9289-f789349d6b85",
      "metadata": {
        "colab": {
          "base_uri": "https://localhost:8080/",
          "height": 321
        },
        "id": "d5767eff-440c-4de1-9289-f789349d6b85",
        "outputId": "62fe50fa-c4c6-4d61-8025-742e3907c518"
      },
      "outputs": [
        {
          "output_type": "error",
          "ename": "KeyError",
          "evalue": "'Hello'",
          "traceback": [
            "\u001b[0;31m---------------------------------------------------------------------------\u001b[0m",
            "\u001b[0;31mKeyError\u001b[0m                                  Traceback (most recent call last)",
            "\u001b[0;32m<ipython-input-21-d80f9ff7dada>\u001b[0m in \u001b[0;36m<cell line: 5>\u001b[0;34m()\u001b[0m\n\u001b[1;32m      3\u001b[0m \u001b[0mtext\u001b[0m \u001b[0;34m=\u001b[0m \u001b[0;34m\"Hello, do you like tea. Is this-- a test?\"\u001b[0m\u001b[0;34m\u001b[0m\u001b[0;34m\u001b[0m\u001b[0m\n\u001b[1;32m      4\u001b[0m \u001b[0;34m\u001b[0m\u001b[0m\n\u001b[0;32m----> 5\u001b[0;31m \u001b[0mtokenizer\u001b[0m\u001b[0;34m.\u001b[0m\u001b[0mencode\u001b[0m\u001b[0;34m(\u001b[0m\u001b[0mtext\u001b[0m\u001b[0;34m)\u001b[0m\u001b[0;34m\u001b[0m\u001b[0;34m\u001b[0m\u001b[0m\n\u001b[0m",
            "\u001b[0;32m<ipython-input-16-6e2c2bb40cc7>\u001b[0m in \u001b[0;36mencode\u001b[0;34m(self, text)\u001b[0m\n\u001b[1;32m     10\u001b[0m             \u001b[0mitem\u001b[0m\u001b[0;34m.\u001b[0m\u001b[0mstrip\u001b[0m\u001b[0;34m(\u001b[0m\u001b[0;34m)\u001b[0m \u001b[0;32mfor\u001b[0m \u001b[0mitem\u001b[0m \u001b[0;32min\u001b[0m \u001b[0mpreprocessed\u001b[0m \u001b[0;32mif\u001b[0m \u001b[0mitem\u001b[0m\u001b[0;34m.\u001b[0m\u001b[0mstrip\u001b[0m\u001b[0;34m(\u001b[0m\u001b[0;34m)\u001b[0m \u001b[0;31m# Strips whitespace and removes empty strings\u001b[0m\u001b[0;34m\u001b[0m\u001b[0;34m\u001b[0m\u001b[0m\n\u001b[1;32m     11\u001b[0m         ]\n\u001b[0;32m---> 12\u001b[0;31m         \u001b[0mids\u001b[0m \u001b[0;34m=\u001b[0m \u001b[0;34m[\u001b[0m\u001b[0mself\u001b[0m\u001b[0;34m.\u001b[0m\u001b[0mstr_to_int\u001b[0m\u001b[0;34m[\u001b[0m\u001b[0ms\u001b[0m\u001b[0;34m]\u001b[0m \u001b[0;32mfor\u001b[0m \u001b[0ms\u001b[0m \u001b[0;32min\u001b[0m \u001b[0mpreprocessed\u001b[0m\u001b[0;34m]\u001b[0m \u001b[0;31m# Converts each token to its corresponding integer ID using the vocabulary\u001b[0m\u001b[0;34m\u001b[0m\u001b[0;34m\u001b[0m\u001b[0m\n\u001b[0m\u001b[1;32m     13\u001b[0m         \u001b[0;32mreturn\u001b[0m \u001b[0mids\u001b[0m\u001b[0;34m\u001b[0m\u001b[0;34m\u001b[0m\u001b[0m\n\u001b[1;32m     14\u001b[0m \u001b[0;34m\u001b[0m\u001b[0m\n",
            "\u001b[0;32m<ipython-input-16-6e2c2bb40cc7>\u001b[0m in \u001b[0;36m<listcomp>\u001b[0;34m(.0)\u001b[0m\n\u001b[1;32m     10\u001b[0m             \u001b[0mitem\u001b[0m\u001b[0;34m.\u001b[0m\u001b[0mstrip\u001b[0m\u001b[0;34m(\u001b[0m\u001b[0;34m)\u001b[0m \u001b[0;32mfor\u001b[0m \u001b[0mitem\u001b[0m \u001b[0;32min\u001b[0m \u001b[0mpreprocessed\u001b[0m \u001b[0;32mif\u001b[0m \u001b[0mitem\u001b[0m\u001b[0;34m.\u001b[0m\u001b[0mstrip\u001b[0m\u001b[0;34m(\u001b[0m\u001b[0;34m)\u001b[0m \u001b[0;31m# Strips whitespace and removes empty strings\u001b[0m\u001b[0;34m\u001b[0m\u001b[0;34m\u001b[0m\u001b[0m\n\u001b[1;32m     11\u001b[0m         ]\n\u001b[0;32m---> 12\u001b[0;31m         \u001b[0mids\u001b[0m \u001b[0;34m=\u001b[0m \u001b[0;34m[\u001b[0m\u001b[0mself\u001b[0m\u001b[0;34m.\u001b[0m\u001b[0mstr_to_int\u001b[0m\u001b[0;34m[\u001b[0m\u001b[0ms\u001b[0m\u001b[0;34m]\u001b[0m \u001b[0;32mfor\u001b[0m \u001b[0ms\u001b[0m \u001b[0;32min\u001b[0m \u001b[0mpreprocessed\u001b[0m\u001b[0;34m]\u001b[0m \u001b[0;31m# Converts each token to its corresponding integer ID using the vocabulary\u001b[0m\u001b[0;34m\u001b[0m\u001b[0;34m\u001b[0m\u001b[0m\n\u001b[0m\u001b[1;32m     13\u001b[0m         \u001b[0;32mreturn\u001b[0m \u001b[0mids\u001b[0m\u001b[0;34m\u001b[0m\u001b[0;34m\u001b[0m\u001b[0m\n\u001b[1;32m     14\u001b[0m \u001b[0;34m\u001b[0m\u001b[0m\n",
            "\u001b[0;31mKeyError\u001b[0m: 'Hello'"
          ]
        }
      ],
      "source": [
        "tokenizer = SimpleTokenizerV1(vocab)\n",
        "\n",
        "text = \"Hello, do you like tea. Is this-- a test?\"\n",
        "\n",
        "tokenizer.encode(text)"
      ]
    },
    {
      "cell_type": "markdown",
      "id": "dc53ee0c-fe2b-4cd8-a946-5471f7651acf",
      "metadata": {
        "id": "dc53ee0c-fe2b-4cd8-a946-5471f7651acf"
      },
      "source": [
        "- The above produces an error because the word \"Hello\" is not contained in the vocabulary\n",
        "- To deal with such cases, we can add special tokens like `\"<|unk|>\"` to the vocabulary to represent unknown words\n",
        "- Since we are already extending the vocabulary, let's add another token called `\"<|endoftext|>\"` which is used in GPT-2 training to denote the end of a text (and it's also used between concatenated text, like if our training datasets consists of multiple articles, books, etc.)"
      ]
    },
    {
      "cell_type": "code",
      "execution_count": 22,
      "id": "ce9df29c-6c5b-43f1-8c1a-c7f7b79db78f",
      "metadata": {
        "id": "ce9df29c-6c5b-43f1-8c1a-c7f7b79db78f"
      },
      "outputs": [],
      "source": [
        "all_tokens = sorted(list(set(preprocessed)))\n",
        "all_tokens.extend([\"<|endoftext|>\", \"<|unk|>\"])\n",
        "\n",
        "vocab = {token:integer for integer,token in enumerate(all_tokens)}"
      ]
    },
    {
      "cell_type": "code",
      "execution_count": 23,
      "id": "57c3143b-e860-4d3b-a22a-de22b547a6a9",
      "metadata": {
        "colab": {
          "base_uri": "https://localhost:8080/"
        },
        "id": "57c3143b-e860-4d3b-a22a-de22b547a6a9",
        "outputId": "e8644bd6-96d7-46b7-9f0f-f01a36950c1c"
      },
      "outputs": [
        {
          "output_type": "execute_result",
          "data": {
            "text/plain": [
              "1132"
            ]
          },
          "metadata": {},
          "execution_count": 23
        }
      ],
      "source": [
        "len(vocab.items())"
      ]
    },
    {
      "cell_type": "code",
      "execution_count": 24,
      "id": "50e51bb1-ae05-4aa8-a9ff-455b65ed1959",
      "metadata": {
        "colab": {
          "base_uri": "https://localhost:8080/"
        },
        "id": "50e51bb1-ae05-4aa8-a9ff-455b65ed1959",
        "outputId": "d3e4202b-45d0-4af1-d602-9009f25a74d3"
      },
      "outputs": [
        {
          "output_type": "stream",
          "name": "stdout",
          "text": [
            "('younger', 1127)\n",
            "('your', 1128)\n",
            "('yourself', 1129)\n",
            "('<|endoftext|>', 1130)\n",
            "('<|unk|>', 1131)\n"
          ]
        }
      ],
      "source": [
        "for i, item in enumerate(list(vocab.items())[-5:]):\n",
        "    print(item)"
      ]
    },
    {
      "cell_type": "markdown",
      "id": "a1daa2b0-6e75-412b-ab53-1f6fb7b4d453",
      "metadata": {
        "id": "a1daa2b0-6e75-412b-ab53-1f6fb7b4d453"
      },
      "source": [
        "- We also need to adjust the tokenizer accordingly so that it knows when and how to use the new `<unk>` token"
      ]
    },
    {
      "cell_type": "code",
      "execution_count": 25,
      "id": "948861c5-3f30-4712-a234-725f20d26f68",
      "metadata": {
        "id": "948861c5-3f30-4712-a234-725f20d26f68"
      },
      "outputs": [],
      "source": [
        "class SimpleTokenizerV2:\n",
        "    def __init__(self, vocab):\n",
        "        self.str_to_int = vocab\n",
        "        self.int_to_str = { i:s for s,i in vocab.items()}\n",
        "\n",
        "    def encode(self, text):\n",
        "        preprocessed = re.split(r'([,.:;?_!\"()\\']|--|\\s)', text)\n",
        "        preprocessed = [item.strip() for item in preprocessed if item.strip()]\n",
        "        preprocessed = [\n",
        "            item if item in self.str_to_int\n",
        "            else \"<|unk|>\" for item in preprocessed\n",
        "        ]\n",
        "\n",
        "        ids = [self.str_to_int[s] for s in preprocessed]\n",
        "        return ids\n",
        "\n",
        "    def decode(self, ids):\n",
        "        text = \" \".join([self.int_to_str[i] for i in ids])\n",
        "        # Replace spaces before the specified punctuations\n",
        "        text = re.sub(r'\\s+([,.:;?!\"()\\'])', r'\\1', text)\n",
        "        return text"
      ]
    },
    {
      "cell_type": "markdown",
      "id": "aa728dd1-9d35-4ac7-938f-d411d73083f6",
      "metadata": {
        "id": "aa728dd1-9d35-4ac7-938f-d411d73083f6"
      },
      "source": [
        "Let's try to tokenize text with the modified tokenizer:"
      ]
    },
    {
      "cell_type": "code",
      "execution_count": 26,
      "id": "4133c502-18ac-4412-9f43-01caf4efa3dc",
      "metadata": {
        "colab": {
          "base_uri": "https://localhost:8080/"
        },
        "id": "4133c502-18ac-4412-9f43-01caf4efa3dc",
        "outputId": "52cb4df8-01d8-481d-e43a-3cbad9e8a646"
      },
      "outputs": [
        {
          "output_type": "stream",
          "name": "stdout",
          "text": [
            "Hello, do you like tea? <|endoftext|> In the sunlit terraces of the palace.\n"
          ]
        }
      ],
      "source": [
        "tokenizer = SimpleTokenizerV2(vocab)\n",
        "\n",
        "text1 = \"Hello, do you like tea?\"\n",
        "text2 = \"In the sunlit terraces of the palace.\"\n",
        "\n",
        "text = \" <|endoftext|> \".join((text1, text2))\n",
        "\n",
        "print(text)"
      ]
    },
    {
      "cell_type": "code",
      "execution_count": 27,
      "id": "7ed395fe-dc1b-4ed2-b85b-457cc35aab60",
      "metadata": {
        "colab": {
          "base_uri": "https://localhost:8080/"
        },
        "id": "7ed395fe-dc1b-4ed2-b85b-457cc35aab60",
        "outputId": "9f676432-f91e-45f0-91c1-fe3fe8f58879"
      },
      "outputs": [
        {
          "output_type": "execute_result",
          "data": {
            "text/plain": [
              "[1131, 5, 355, 1126, 628, 975, 10, 1130, 55, 988, 956, 984, 722, 988, 1131, 7]"
            ]
          },
          "metadata": {},
          "execution_count": 27
        }
      ],
      "source": [
        "tokenizer.encode(text)"
      ]
    },
    {
      "cell_type": "code",
      "execution_count": 28,
      "id": "059367f9-7a60-4c0d-8a00-7c4c766d0ebc",
      "metadata": {
        "colab": {
          "base_uri": "https://localhost:8080/",
          "height": 36
        },
        "id": "059367f9-7a60-4c0d-8a00-7c4c766d0ebc",
        "outputId": "5492c9ce-3e00-44de-cb4a-eeb2bffcc8a8"
      },
      "outputs": [
        {
          "output_type": "execute_result",
          "data": {
            "text/plain": [
              "'<|unk|>, do you like tea? <|endoftext|> In the sunlit terraces of the <|unk|>.'"
            ],
            "application/vnd.google.colaboratory.intrinsic+json": {
              "type": "string"
            }
          },
          "metadata": {},
          "execution_count": 28
        }
      ],
      "source": [
        "tokenizer.decode(tokenizer.encode(text))"
      ]
    },
    {
      "cell_type": "markdown",
      "id": "5c4ba34b-170f-4e71-939b-77aabb776f14",
      "metadata": {
        "id": "5c4ba34b-170f-4e71-939b-77aabb776f14"
      },
      "source": [
        "## 2.5 BytePair encoding"
      ]
    },
    {
      "cell_type": "markdown",
      "id": "2309494c-79cf-4a2d-bc28-a94d602f050e",
      "metadata": {
        "id": "2309494c-79cf-4a2d-bc28-a94d602f050e"
      },
      "source": [
        "- GPT-2 used BytePair encoding (BPE) as its tokenizer\n",
        "- it allows the model to break down words that aren't in its predefined vocabulary into smaller subword units or even individual characters, enabling it to handle out-of-vocabulary words\n",
        "- For instance, if GPT-2's vocabulary doesn't have the word \"unfamiliarword,\" it might tokenize it as [\"unfam\", \"iliar\", \"word\"] or some other subword breakdown, depending on its trained BPE merges\n",
        "- The original BPE tokenizer can be found here: [https://github.com/openai/gpt-2/blob/master/src/encoder.py](https://github.com/openai/gpt-2/blob/master/src/encoder.py)\n",
        "- In this chapter, we are using the BPE tokenizer from OpenAI's open-source [tiktoken](https://github.com/openai/tiktoken) library, which implements its core algorithms in Rust to improve computational performance\n",
        "- I created a notebook in the [./bytepair_encoder](../02_bonus_bytepair-encoder) that compares these two implementations side-by-side (tiktoken was about 5x faster on the sample text)"
      ]
    },
    {
      "cell_type": "code",
      "execution_count": 29,
      "id": "ede1d41f-934b-4bf4-8184-54394a257a94",
      "metadata": {
        "colab": {
          "base_uri": "https://localhost:8080/"
        },
        "id": "ede1d41f-934b-4bf4-8184-54394a257a94",
        "outputId": "823b1419-9367-41aa-f7e8-abf46db67515"
      },
      "outputs": [
        {
          "output_type": "stream",
          "name": "stdout",
          "text": [
            "Requirement already satisfied: tiktoken in /usr/local/lib/python3.10/dist-packages (0.8.0)\n",
            "Requirement already satisfied: regex>=2022.1.18 in /usr/local/lib/python3.10/dist-packages (from tiktoken) (2024.11.6)\n",
            "Requirement already satisfied: requests>=2.26.0 in /usr/local/lib/python3.10/dist-packages (from tiktoken) (2.32.3)\n",
            "Requirement already satisfied: charset-normalizer<4,>=2 in /usr/local/lib/python3.10/dist-packages (from requests>=2.26.0->tiktoken) (3.4.0)\n",
            "Requirement already satisfied: idna<4,>=2.5 in /usr/local/lib/python3.10/dist-packages (from requests>=2.26.0->tiktoken) (3.10)\n",
            "Requirement already satisfied: urllib3<3,>=1.21.1 in /usr/local/lib/python3.10/dist-packages (from requests>=2.26.0->tiktoken) (2.2.3)\n",
            "Requirement already satisfied: certifi>=2017.4.17 in /usr/local/lib/python3.10/dist-packages (from requests>=2.26.0->tiktoken) (2024.12.14)\n"
          ]
        }
      ],
      "source": [
        " !pip install tiktoken"
      ]
    },
    {
      "cell_type": "code",
      "execution_count": 30,
      "id": "48967a77-7d17-42bf-9e92-fc619d63a59e",
      "metadata": {
        "colab": {
          "base_uri": "https://localhost:8080/"
        },
        "id": "48967a77-7d17-42bf-9e92-fc619d63a59e",
        "outputId": "6a917ca8-a075-44cf-b5c6-599d7aad8b68"
      },
      "outputs": [
        {
          "output_type": "stream",
          "name": "stdout",
          "text": [
            "tiktoken version: 0.8.0\n"
          ]
        }
      ],
      "source": [
        "import importlib\n",
        "import tiktoken\n",
        "\n",
        "print(\"tiktoken version:\", importlib.metadata.version(\"tiktoken\"))"
      ]
    },
    {
      "cell_type": "code",
      "execution_count": 31,
      "id": "6ad3312f-a5f7-4efc-9d7d-8ea09d7b5128",
      "metadata": {
        "id": "6ad3312f-a5f7-4efc-9d7d-8ea09d7b5128"
      },
      "outputs": [],
      "source": [
        "tokenizer = tiktoken.get_encoding(\"gpt2\")"
      ]
    },
    {
      "cell_type": "code",
      "execution_count": 32,
      "id": "5ff2cd85-7cfb-4325-b390-219938589428",
      "metadata": {
        "colab": {
          "base_uri": "https://localhost:8080/"
        },
        "id": "5ff2cd85-7cfb-4325-b390-219938589428",
        "outputId": "d817cefe-6320-4c6e-d53d-e35c3ad1ce74"
      },
      "outputs": [
        {
          "output_type": "stream",
          "name": "stdout",
          "text": [
            "[15496, 11, 466, 345, 588, 8887, 30, 220, 50256, 554, 262, 4252, 18250, 8812, 2114, 1659, 617, 34680, 27271, 13]\n"
          ]
        }
      ],
      "source": [
        "text = (\n",
        "    \"Hello, do you like tea? <|endoftext|> In the sunlit terraces\"\n",
        "     \"of someunknownPlace.\"\n",
        ")\n",
        "\n",
        "integers = tokenizer.encode(text, allowed_special={\"<|endoftext|>\"})\n",
        "\n",
        "print(integers)"
      ]
    },
    {
      "cell_type": "code",
      "execution_count": 33,
      "id": "d26a48bb-f82e-41a8-a955-a1c9cf9d50ab",
      "metadata": {
        "colab": {
          "base_uri": "https://localhost:8080/"
        },
        "id": "d26a48bb-f82e-41a8-a955-a1c9cf9d50ab",
        "outputId": "380583f5-3ed8-40a9-8df1-21ddcf60df71"
      },
      "outputs": [
        {
          "output_type": "stream",
          "name": "stdout",
          "text": [
            "Hello, do you like tea? <|endoftext|> In the sunlit terracesof someunknownPlace.\n"
          ]
        }
      ],
      "source": [
        "strings = tokenizer.decode(integers)\n",
        "\n",
        "print(strings)"
      ]
    },
    {
      "cell_type": "markdown",
      "id": "e8c2e7b4-6a22-42aa-8e4d-901f06378d4a",
      "metadata": {
        "id": "e8c2e7b4-6a22-42aa-8e4d-901f06378d4a"
      },
      "source": [
        "- BPE tokenizers break down unknown words into subwords and individual characters:"
      ]
    },
    {
      "cell_type": "markdown",
      "id": "c082d41f-33d7-4827-97d8-993d5a84bb3c",
      "metadata": {
        "id": "c082d41f-33d7-4827-97d8-993d5a84bb3c"
      },
      "source": [
        "<img src=\"https://sebastianraschka.com/images/LLMs-from-scratch-images/ch02_compressed/11.webp\" width=\"300px\">"
      ]
    },
    {
      "cell_type": "markdown",
      "id": "abbd7c0d-70f8-4386-a114-907e96c950b0",
      "metadata": {
        "id": "abbd7c0d-70f8-4386-a114-907e96c950b0"
      },
      "source": [
        "## 2.6 Data sampling with a sliding window"
      ]
    },
    {
      "cell_type": "markdown",
      "id": "509d9826-6384-462e-aa8a-a7c73cd6aad0",
      "metadata": {
        "id": "509d9826-6384-462e-aa8a-a7c73cd6aad0"
      },
      "source": [
        "- We train LLMs to generate one word at a time, so we want to prepare the training data accordingly where the next word in a sequence represents the target to predict:"
      ]
    },
    {
      "cell_type": "markdown",
      "id": "39fb44f4-0c43-4a6a-9c2f-9cf31452354c",
      "metadata": {
        "id": "39fb44f4-0c43-4a6a-9c2f-9cf31452354c"
      },
      "source": [
        "<img src=\"https://sebastianraschka.com/images/LLMs-from-scratch-images/ch02_compressed/12.webp\" width=\"400px\">"
      ]
    },
    {
      "cell_type": "code",
      "execution_count": 34,
      "id": "848d5ade-fd1f-46c3-9e31-1426e315c71b",
      "metadata": {
        "colab": {
          "base_uri": "https://localhost:8080/"
        },
        "id": "848d5ade-fd1f-46c3-9e31-1426e315c71b",
        "outputId": "0324b3db-dba4-4c6d-f0ab-a8306b3599ca"
      },
      "outputs": [
        {
          "output_type": "stream",
          "name": "stdout",
          "text": [
            "5145\n"
          ]
        }
      ],
      "source": [
        "with open(\"the-verdict.txt\", \"r\", encoding=\"utf-8\") as f:\n",
        "    raw_text = f.read() # Reads the entire file content into raw_text as a string\n",
        "\n",
        "enc_text = tokenizer.encode(raw_text) # Takes the raw text and converts it into token IDs using the tokenizer\n",
        "print(len(enc_text)) # Prints how many tokens are in the encoded text"
      ]
    },
    {
      "cell_type": "markdown",
      "id": "cebd0657-5543-43ca-8011-2ae6bd0a5810",
      "metadata": {
        "id": "cebd0657-5543-43ca-8011-2ae6bd0a5810"
      },
      "source": [
        "- For each text chunk, we want the inputs and targets\n",
        "- Since we want the model to predict the next word, the targets are the inputs shifted by one position to the right"
      ]
    },
    {
      "cell_type": "code",
      "execution_count": 35,
      "id": "e84424a7-646d-45b6-99e3-80d15fb761f2",
      "metadata": {
        "id": "e84424a7-646d-45b6-99e3-80d15fb761f2"
      },
      "outputs": [],
      "source": [
        "enc_sample = enc_text[50:]"
      ]
    },
    {
      "cell_type": "code",
      "execution_count": 36,
      "id": "dfbff852-a92f-48c8-a46d-143a0f109f40",
      "metadata": {
        "colab": {
          "base_uri": "https://localhost:8080/"
        },
        "id": "dfbff852-a92f-48c8-a46d-143a0f109f40",
        "outputId": "ec3b03f2-c50d-4353-82f0-6373d0d871d9"
      },
      "outputs": [
        {
          "output_type": "stream",
          "name": "stdout",
          "text": [
            "x: [290, 4920, 2241, 287]\n",
            "y:      [4920, 2241, 287, 257]\n"
          ]
        }
      ],
      "source": [
        "context_size = 4 # during training, we decide to chop the text into 4 tokens to predict next token\n",
        "# The context_size = 4 determines how many previous tokens the model can \"see\" when trying to predict the next token.\n",
        "\n",
        "x = enc_sample[:context_size]  # Input sequence\n",
        "y = enc_sample[1:context_size+1] # Target sequence (shifted by 1)\n",
        "\n",
        "print(f\"x: {x}\")\n",
        "print(f\"y:      {y}\")"
      ]
    },
    {
      "cell_type": "markdown",
      "id": "815014ef-62f7-4476-a6ad-66e20e42b7c3",
      "metadata": {
        "id": "815014ef-62f7-4476-a6ad-66e20e42b7c3"
      },
      "source": [
        "- One by one, the prediction would look like as follows:"
      ]
    },
    {
      "cell_type": "code",
      "execution_count": 37,
      "id": "d97b031e-ed55-409d-95f2-aeb38c6fe366",
      "metadata": {
        "colab": {
          "base_uri": "https://localhost:8080/"
        },
        "id": "d97b031e-ed55-409d-95f2-aeb38c6fe366",
        "outputId": "6c8d7c4e-a55a-4b65-bd66-2ccb0e65644a"
      },
      "outputs": [
        {
          "output_type": "stream",
          "name": "stdout",
          "text": [
            "[290] ----> 4920\n",
            "[290, 4920] ----> 2241\n",
            "[290, 4920, 2241] ----> 287\n",
            "[290, 4920, 2241, 287] ----> 257\n"
          ]
        }
      ],
      "source": [
        "for i in range(1, context_size+1):\n",
        "    context = enc_sample[:i]\n",
        "    desired = enc_sample[i]\n",
        "\n",
        "    print(context, \"---->\", desired)"
      ]
    },
    {
      "cell_type": "code",
      "execution_count": 38,
      "id": "f57bd746-dcbf-4433-8e24-ee213a8c34a1",
      "metadata": {
        "colab": {
          "base_uri": "https://localhost:8080/"
        },
        "id": "f57bd746-dcbf-4433-8e24-ee213a8c34a1",
        "outputId": "a1d4f4d9-8878-4819-e0ff-18aa12fbb8be"
      },
      "outputs": [
        {
          "output_type": "stream",
          "name": "stdout",
          "text": [
            " and ---->  established\n",
            " and established ---->  himself\n",
            " and established himself ---->  in\n",
            " and established himself in ---->  a\n"
          ]
        }
      ],
      "source": [
        "for i in range(1, context_size+1):\n",
        "    context = enc_sample[:i]\n",
        "    desired = enc_sample[i]\n",
        "\n",
        "    print(tokenizer.decode(context), \"---->\", tokenizer.decode([desired]))"
      ]
    },
    {
      "cell_type": "markdown",
      "id": "210d2dd9-fc20-4927-8d3d-1466cf41aae1",
      "metadata": {
        "id": "210d2dd9-fc20-4927-8d3d-1466cf41aae1"
      },
      "source": [
        "- We will take care of the next-word prediction in a later chapter after we covered the attention mechanism\n",
        "- For now, we implement a simple data loader that iterates over the input dataset and returns the inputs and targets shifted by one"
      ]
    },
    {
      "cell_type": "markdown",
      "id": "a1a1b47a-f646-49d1-bc70-fddf2c840796",
      "metadata": {
        "id": "a1a1b47a-f646-49d1-bc70-fddf2c840796"
      },
      "source": [
        "- Install and import PyTorch (see Appendix A for installation tips)"
      ]
    },
    {
      "cell_type": "code",
      "execution_count": 39,
      "id": "e1770134-e7f3-4725-a679-e04c3be48cac",
      "metadata": {
        "colab": {
          "base_uri": "https://localhost:8080/"
        },
        "id": "e1770134-e7f3-4725-a679-e04c3be48cac",
        "outputId": "721d45d5-dcf4-4db6-abdd-bf80da6bd8e7"
      },
      "outputs": [
        {
          "output_type": "stream",
          "name": "stdout",
          "text": [
            "PyTorch version: 2.5.1+cu121\n"
          ]
        }
      ],
      "source": [
        "import torch\n",
        "print(\"PyTorch version:\", torch.__version__)"
      ]
    },
    {
      "cell_type": "markdown",
      "id": "0c9a3d50-885b-49bc-b791-9f5cc8bc7b7c",
      "metadata": {
        "id": "0c9a3d50-885b-49bc-b791-9f5cc8bc7b7c"
      },
      "source": [
        "- We use a sliding window approach, changing the position by +1:\n",
        "\n",
        "<img src=\"https://sebastianraschka.com/images/LLMs-from-scratch-images/ch02_compressed/13.webp?123\" width=\"500px\">"
      ]
    },
    {
      "cell_type": "markdown",
      "id": "92ac652d-7b38-4843-9fbd-494cdc8ec12c",
      "metadata": {
        "id": "92ac652d-7b38-4843-9fbd-494cdc8ec12c"
      },
      "source": [
        "- Create dataset and dataloader that extract chunks from the input text dataset"
      ]
    },
    {
      "cell_type": "code",
      "execution_count": 58,
      "id": "74b41073-4c9f-46e2-a1bd-d38e4122b375",
      "metadata": {
        "id": "74b41073-4c9f-46e2-a1bd-d38e4122b375"
      },
      "outputs": [],
      "source": [
        "from torch.utils.data import Dataset, DataLoader\n",
        "\n",
        "\n",
        "class GPTDatasetV1(Dataset): # Inherits from PyTorch's Dataset class. Used to create a dataset that PyTorch's DataLoader can  use\n",
        "    def __init__(self, txt, tokenizer, max_length, stride): # Takes raw text, a tokenizer, maximum sequence length, and stride (step size between chunks)\n",
        "        self.input_ids = [] # Creates lists to store input sequences and\n",
        "        self.target_ids = [] # their corresponding target sequences\n",
        "\n",
        "        # Tokenize the entire text\n",
        "        token_ids = tokenizer.encode(txt, allowed_special={\"<|endoftext|>\"})  # Converts the entire text into token IDs. Allows the special token \"<|endoftext|>\" to mark text boundaries\n",
        "\n",
        "        # Use a sliding window to chunk the book into overlapping sequences of max_length\n",
        "        for i in range(0, len(token_ids) - max_length, stride):  # As shown above, token_ids is our tokenized text. Each chunk will be equal to \"max_lenght\" tokens long. We move forward equal to \"stride\" positions each time\n",
        "            input_chunk = token_ids[i:i + max_length]\n",
        "            target_chunk = token_ids[i + 1: i + max_length + 1]\n",
        "            self.input_ids.append(torch.tensor(input_chunk))\n",
        "            self.target_ids.append(torch.tensor(target_chunk))\n",
        "\n",
        "    def __len__(self):\n",
        "        return len(self.input_ids)\n",
        "\n",
        "    def __getitem__(self, idx):\n",
        "        return self.input_ids[idx], self.target_ids[idx]"
      ]
    },
    {
      "cell_type": "code",
      "execution_count": 41,
      "id": "5eb30ebe-97b3-43c5-9ff1-a97d621b3c4e",
      "metadata": {
        "id": "5eb30ebe-97b3-43c5-9ff1-a97d621b3c4e"
      },
      "outputs": [],
      "source": [
        "def create_dataloader_v1(txt, batch_size=4, max_length=256, # batch_size: is the number of sequences per batch. max_lenght: Maximum length of each sequence\n",
        "                         stride=128, # How much to slide the window by\n",
        "                         shuffle=True, # Whether to randomize the order\n",
        "                         drop_last=True, # Whether to drop incomplete batches\n",
        "                         num_workers=0): # Number of parallel workers for loading\n",
        "\n",
        "    # Initialize the tokenizer\n",
        "    tokenizer = tiktoken.get_encoding(\"gpt2\") # Uses the GPT-2 tokenizer from tiktoken\n",
        "\n",
        "    # Create dataset\n",
        "    dataset = GPTDatasetV1(txt, tokenizer, max_length, stride) #Uses our custom GPTDatasetV1 class\n",
        "\n",
        "    # Create dataloader\n",
        "    dataloader = DataLoader(\n",
        "        dataset,\n",
        "        batch_size=batch_size,\n",
        "        shuffle=shuffle,\n",
        "        drop_last=drop_last,\n",
        "        num_workers=num_workers\n",
        "    )\n",
        "\n",
        "    return dataloader"
      ]
    },
    {
      "cell_type": "markdown",
      "source": [
        "The following picture shows the relation between txt, batch_size=4, and max_length=256"
      ],
      "metadata": {
        "id": "svGPXxsLLi0o"
      },
      "id": "svGPXxsLLi0o"
    },
    {
      "cell_type": "markdown",
      "source": [
        "![image.png](data:image/png;base64,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)"
      ],
      "metadata": {
        "id": "T1hq6ln_LcSv"
      },
      "id": "T1hq6ln_LcSv"
    },
    {
      "cell_type": "markdown",
      "id": "42dd68ef-59f7-45ff-ba44-e311c899ddcd",
      "metadata": {
        "id": "42dd68ef-59f7-45ff-ba44-e311c899ddcd"
      },
      "source": [
        "- Let's test the dataloader with a batch size of 1 for an LLM with a context size of 4:"
      ]
    },
    {
      "cell_type": "code",
      "execution_count": 42,
      "id": "df31d96c-6bfd-4564-a956-6192242d7579",
      "metadata": {
        "id": "df31d96c-6bfd-4564-a956-6192242d7579"
      },
      "outputs": [],
      "source": [
        "with open(\"the-verdict.txt\", \"r\", encoding=\"utf-8\") as f:\n",
        "    raw_text = f.read()"
      ]
    },
    {
      "cell_type": "code",
      "execution_count": 43,
      "id": "9226d00c-ad9a-4949-a6e4-9afccfc7214f",
      "metadata": {
        "colab": {
          "base_uri": "https://localhost:8080/"
        },
        "id": "9226d00c-ad9a-4949-a6e4-9afccfc7214f",
        "outputId": "bd9d506c-cf0c-4eb0-b1f6-c786c92f5555"
      },
      "outputs": [
        {
          "output_type": "stream",
          "name": "stdout",
          "text": [
            "[tensor([[  40,  367, 2885, 1464]]), tensor([[ 367, 2885, 1464, 1807]])]\n"
          ]
        }
      ],
      "source": [
        "dataloader = create_dataloader_v1(\n",
        "    raw_text, batch_size=1, max_length=4, stride=1, shuffle=False\n",
        ")\n",
        "\n",
        "data_iter = iter(dataloader)\n",
        "first_batch = next(data_iter)\n",
        "print(first_batch)"
      ]
    },
    {
      "cell_type": "code",
      "execution_count": 44,
      "id": "10deb4bc-4de1-4d20-921e-4b1c7a0e1a6d",
      "metadata": {
        "colab": {
          "base_uri": "https://localhost:8080/"
        },
        "id": "10deb4bc-4de1-4d20-921e-4b1c7a0e1a6d",
        "outputId": "ec59c4a7-f930-4bbf-9ce9-f6538ece8320"
      },
      "outputs": [
        {
          "output_type": "stream",
          "name": "stdout",
          "text": [
            "[tensor([[ 367, 2885, 1464, 1807]]), tensor([[2885, 1464, 1807, 3619]])]\n"
          ]
        }
      ],
      "source": [
        "second_batch = next(data_iter)\n",
        "print(second_batch)"
      ]
    },
    {
      "cell_type": "markdown",
      "id": "b006212f-de45-468d-bdee-5806216d1679",
      "metadata": {
        "id": "b006212f-de45-468d-bdee-5806216d1679"
      },
      "source": [
        "- An example using stride equal to the context length (here: 4) as shown below:"
      ]
    },
    {
      "cell_type": "markdown",
      "id": "9cb467e0-bdcd-4dda-b9b0-a738c5d33ac3",
      "metadata": {
        "id": "9cb467e0-bdcd-4dda-b9b0-a738c5d33ac3"
      },
      "source": [
        "<img src=\"https://sebastianraschka.com/images/LLMs-from-scratch-images/ch02_compressed/14.webp\" width=\"500px\">"
      ]
    },
    {
      "cell_type": "markdown",
      "id": "b1ae6d45-f26e-4b83-9c7b-cff55ffa7d16",
      "metadata": {
        "id": "b1ae6d45-f26e-4b83-9c7b-cff55ffa7d16"
      },
      "source": [
        "- We can also create batched outputs\n",
        "- Note that we increase the stride here so that we don't have overlaps between the batches, since more overlap could lead to increased overfitting"
      ]
    },
    {
      "cell_type": "code",
      "execution_count": 45,
      "id": "1916e7a6-f03d-4f09-91a6-d0bdbac5a58c",
      "metadata": {
        "colab": {
          "base_uri": "https://localhost:8080/"
        },
        "id": "1916e7a6-f03d-4f09-91a6-d0bdbac5a58c",
        "outputId": "c1d1fbc9-e745-4937-a084-34755cb36f00"
      },
      "outputs": [
        {
          "output_type": "stream",
          "name": "stdout",
          "text": [
            "Inputs:\n",
            " tensor([[   40,   367,  2885,  1464],\n",
            "        [ 1807,  3619,   402,   271],\n",
            "        [10899,  2138,   257,  7026],\n",
            "        [15632,   438,  2016,   257],\n",
            "        [  922,  5891,  1576,   438],\n",
            "        [  568,   340,   373,   645],\n",
            "        [ 1049,  5975,   284,   502],\n",
            "        [  284,  3285,   326,    11]])\n",
            "\n",
            "Targets:\n",
            " tensor([[  367,  2885,  1464,  1807],\n",
            "        [ 3619,   402,   271, 10899],\n",
            "        [ 2138,   257,  7026, 15632],\n",
            "        [  438,  2016,   257,   922],\n",
            "        [ 5891,  1576,   438,   568],\n",
            "        [  340,   373,   645,  1049],\n",
            "        [ 5975,   284,   502,   284],\n",
            "        [ 3285,   326,    11,   287]])\n"
          ]
        }
      ],
      "source": [
        "dataloader = create_dataloader_v1(raw_text, batch_size=8, max_length=4, stride=4, shuffle=False)\n",
        "\n",
        "data_iter = iter(dataloader)\n",
        "inputs, targets = next(data_iter)\n",
        "print(\"Inputs:\\n\", inputs)\n",
        "print(\"\\nTargets:\\n\", targets)"
      ]
    },
    {
      "cell_type": "markdown",
      "id": "2cd2fcda-2fda-4aa8-8bc8-de1e496f9db1",
      "metadata": {
        "id": "2cd2fcda-2fda-4aa8-8bc8-de1e496f9db1"
      },
      "source": [
        "## 2.7 Creating token embeddings"
      ]
    },
    {
      "cell_type": "markdown",
      "id": "1a301068-6ab2-44ff-a915-1ba11688274f",
      "metadata": {
        "id": "1a301068-6ab2-44ff-a915-1ba11688274f"
      },
      "source": [
        "- The data is already almost ready for an LLM\n",
        "- But lastly let us embed the tokens in a continuous vector representation using an embedding layer\n",
        "- Usually, these embedding layers are part of the LLM itself and are updated (trained) during model training"
      ]
    },
    {
      "cell_type": "markdown",
      "id": "e85089aa-8671-4e5f-a2b3-ef252004ee4c",
      "metadata": {
        "id": "e85089aa-8671-4e5f-a2b3-ef252004ee4c"
      },
      "source": [
        "<img src=\"https://sebastianraschka.com/images/LLMs-from-scratch-images/ch02_compressed/15.webp\" width=\"400px\">"
      ]
    },
    {
      "cell_type": "markdown",
      "id": "44e014ca-1fc5-4b90-b6fa-c2097bb92c0b",
      "metadata": {
        "id": "44e014ca-1fc5-4b90-b6fa-c2097bb92c0b"
      },
      "source": [
        "- Suppose we have the following four input examples with input ids 2, 3, 5, and 1 (after tokenization):"
      ]
    },
    {
      "cell_type": "code",
      "execution_count": 46,
      "id": "15a6304c-9474-4470-b85d-3991a49fa653",
      "metadata": {
        "id": "15a6304c-9474-4470-b85d-3991a49fa653"
      },
      "outputs": [],
      "source": [
        "input_ids = torch.tensor([2, 3, 5, 1])"
      ]
    },
    {
      "cell_type": "markdown",
      "id": "14da6344-2c71-4837-858d-dd120005ba05",
      "metadata": {
        "id": "14da6344-2c71-4837-858d-dd120005ba05"
      },
      "source": [
        "- For the sake of simplicity, suppose we have a small vocabulary of only 6 words and we want to create embeddings of size 3:"
      ]
    },
    {
      "cell_type": "code",
      "execution_count": 47,
      "id": "93cb2cee-9aa6-4bb8-8977-c65661d16eda",
      "metadata": {
        "id": "93cb2cee-9aa6-4bb8-8977-c65661d16eda"
      },
      "outputs": [],
      "source": [
        "vocab_size = 6\n",
        "output_dim = 3\n",
        "\n",
        "torch.manual_seed(123)\n",
        "embedding_layer = torch.nn.Embedding(vocab_size, output_dim)"
      ]
    },
    {
      "cell_type": "markdown",
      "id": "4ff241f6-78eb-4e4a-a55f-5b2b6196d5b0",
      "metadata": {
        "id": "4ff241f6-78eb-4e4a-a55f-5b2b6196d5b0"
      },
      "source": [
        "- This would result in a 6x3 weight matrix:"
      ]
    },
    {
      "cell_type": "code",
      "execution_count": 48,
      "id": "a686eb61-e737-4351-8f1c-222913d47468",
      "metadata": {
        "colab": {
          "base_uri": "https://localhost:8080/"
        },
        "id": "a686eb61-e737-4351-8f1c-222913d47468",
        "outputId": "a13de1ab-4dc3-4f11-f922-cce2eec14995"
      },
      "outputs": [
        {
          "output_type": "stream",
          "name": "stdout",
          "text": [
            "Parameter containing:\n",
            "tensor([[ 0.3374, -0.1778, -0.1690],\n",
            "        [ 0.9178,  1.5810,  1.3010],\n",
            "        [ 1.2753, -0.2010, -0.1606],\n",
            "        [-0.4015,  0.9666, -1.1481],\n",
            "        [-1.1589,  0.3255, -0.6315],\n",
            "        [-2.8400, -0.7849, -1.4096]], requires_grad=True)\n"
          ]
        }
      ],
      "source": [
        "print(embedding_layer.weight)"
      ]
    },
    {
      "cell_type": "markdown",
      "id": "26fcf4f5-0801-4eb4-bb90-acce87935ac7",
      "metadata": {
        "id": "26fcf4f5-0801-4eb4-bb90-acce87935ac7"
      },
      "source": [
        "- For those who are familiar with one-hot encoding, the embedding layer approach above is essentially just a more efficient way of implementing one-hot encoding followed by matrix multiplication in a fully-connected layer, which is described in the supplementary code in [./embedding_vs_matmul](../03_bonus_embedding-vs-matmul)\n",
        "- Because the embedding layer is just a more efficient implementation that is equivalent to the one-hot encoding and matrix-multiplication approach it can be seen as a neural network layer that can be optimized via backpropagation"
      ]
    },
    {
      "cell_type": "markdown",
      "id": "4b0d58c3-83c0-4205-aca2-9c48b19fd4a7",
      "metadata": {
        "id": "4b0d58c3-83c0-4205-aca2-9c48b19fd4a7"
      },
      "source": [
        "- To convert a token with id 3 into a 3-dimensional vector, we do the following:"
      ]
    },
    {
      "cell_type": "code",
      "execution_count": 49,
      "id": "e43600ba-f287-4746-8ddf-d0f71a9023ca",
      "metadata": {
        "colab": {
          "base_uri": "https://localhost:8080/"
        },
        "id": "e43600ba-f287-4746-8ddf-d0f71a9023ca",
        "outputId": "76881265-8eb8-4a18-8ce2-729a3ea4c5fa"
      },
      "outputs": [
        {
          "output_type": "stream",
          "name": "stdout",
          "text": [
            "tensor([[-0.4015,  0.9666, -1.1481]], grad_fn=<EmbeddingBackward0>)\n"
          ]
        }
      ],
      "source": [
        "print(embedding_layer(torch.tensor([3])))"
      ]
    },
    {
      "cell_type": "markdown",
      "id": "a7bbf625-4f36-491d-87b4-3969efb784b0",
      "metadata": {
        "id": "a7bbf625-4f36-491d-87b4-3969efb784b0"
      },
      "source": [
        "- Note that the above is the 4th row in the `embedding_layer` weight matrix\n",
        "- To embed all four `input_ids` values above, we do"
      ]
    },
    {
      "cell_type": "code",
      "execution_count": 50,
      "id": "50280ead-0363-44c8-8c35-bb885d92c8b7",
      "metadata": {
        "colab": {
          "base_uri": "https://localhost:8080/"
        },
        "id": "50280ead-0363-44c8-8c35-bb885d92c8b7",
        "outputId": "220db407-7fdc-4a33-e1c7-9fbf94fe641d"
      },
      "outputs": [
        {
          "output_type": "stream",
          "name": "stdout",
          "text": [
            "tensor([[ 1.2753, -0.2010, -0.1606],\n",
            "        [-0.4015,  0.9666, -1.1481],\n",
            "        [-2.8400, -0.7849, -1.4096],\n",
            "        [ 0.9178,  1.5810,  1.3010]], grad_fn=<EmbeddingBackward0>)\n"
          ]
        }
      ],
      "source": [
        "print(embedding_layer(input_ids))"
      ]
    },
    {
      "cell_type": "markdown",
      "id": "be97ced4-bd13-42b7-866a-4d699a17e155",
      "metadata": {
        "id": "be97ced4-bd13-42b7-866a-4d699a17e155"
      },
      "source": [
        "- An embedding layer is essentially a look-up operation:"
      ]
    },
    {
      "cell_type": "markdown",
      "id": "f33c2741-bf1b-4c60-b7fd-61409d556646",
      "metadata": {
        "id": "f33c2741-bf1b-4c60-b7fd-61409d556646"
      },
      "source": [
        "<img src=\"https://sebastianraschka.com/images/LLMs-from-scratch-images/ch02_compressed/16.webp?123\" width=\"500px\">"
      ]
    },
    {
      "cell_type": "markdown",
      "id": "08218d9f-aa1a-4afb-a105-72ff96a54e73",
      "metadata": {
        "id": "08218d9f-aa1a-4afb-a105-72ff96a54e73"
      },
      "source": [
        "- **You may be interested in the bonus content comparing embedding layers with regular linear layers: [../03_bonus_embedding-vs-matmul](../03_bonus_embedding-vs-matmul)**"
      ]
    },
    {
      "cell_type": "markdown",
      "id": "c393d270-b950-4bc8-99ea-97d74f2ea0f6",
      "metadata": {
        "id": "c393d270-b950-4bc8-99ea-97d74f2ea0f6"
      },
      "source": [
        "## 2.8 Encoding word positions"
      ]
    },
    {
      "cell_type": "markdown",
      "id": "24940068-1099-4698-bdc0-e798515e2902",
      "metadata": {
        "id": "24940068-1099-4698-bdc0-e798515e2902"
      },
      "source": [
        "- Embedding layer convert IDs into identical vector representations regardless of where they are located in the input sequence:"
      ]
    },
    {
      "cell_type": "markdown",
      "id": "9e0b14a2-f3f3-490e-b513-f262dbcf94fa",
      "metadata": {
        "id": "9e0b14a2-f3f3-490e-b513-f262dbcf94fa"
      },
      "source": [
        "<img src=\"https://sebastianraschka.com/images/LLMs-from-scratch-images/ch02_compressed/17.webp\" width=\"400px\">"
      ]
    },
    {
      "cell_type": "markdown",
      "id": "92a7d7fe-38a5-46e6-8db6-b688887b0430",
      "metadata": {
        "id": "92a7d7fe-38a5-46e6-8db6-b688887b0430"
      },
      "source": [
        "- Positional embeddings are combined with the token embedding vector to form the input embeddings for a large language model:"
      ]
    },
    {
      "cell_type": "markdown",
      "id": "48de37db-d54d-45c4-ab3e-88c0783ad2e4",
      "metadata": {
        "id": "48de37db-d54d-45c4-ab3e-88c0783ad2e4"
      },
      "source": [
        "<img src=\"https://sebastianraschka.com/images/LLMs-from-scratch-images/ch02_compressed/18.webp\" width=\"500px\">"
      ]
    },
    {
      "cell_type": "markdown",
      "id": "7f187f87-c1f8-4c2e-8050-350bbb972f55",
      "metadata": {
        "id": "7f187f87-c1f8-4c2e-8050-350bbb972f55"
      },
      "source": [
        "- The BytePair encoder has a vocabulary size of 50,257:\n",
        "- Suppose we want to encode the input tokens into a 256-dimensional vector representation:"
      ]
    },
    {
      "cell_type": "code",
      "execution_count": 51,
      "id": "0b9e344d-03a6-4f2c-b723-67b6a20c5041",
      "metadata": {
        "id": "0b9e344d-03a6-4f2c-b723-67b6a20c5041"
      },
      "outputs": [],
      "source": [
        "vocab_size = 50257\n",
        "output_dim = 256\n",
        "\n",
        "token_embedding_layer = torch.nn.Embedding(vocab_size, output_dim)"
      ]
    },
    {
      "cell_type": "markdown",
      "id": "a2654722-24e4-4b0d-a43c-436a461eb70b",
      "metadata": {
        "id": "a2654722-24e4-4b0d-a43c-436a461eb70b"
      },
      "source": [
        "- If we sample data from the dataloader, we embed the tokens in each batch into a 256-dimensional vector\n",
        "- If we have a batch size of 8 with 4 tokens each, this results in a 8 x 4 x 256 tensor:"
      ]
    },
    {
      "cell_type": "code",
      "execution_count": 52,
      "id": "ad56a263-3d2e-4d91-98bf-d0b68d3c7fc3",
      "metadata": {
        "id": "ad56a263-3d2e-4d91-98bf-d0b68d3c7fc3"
      },
      "outputs": [],
      "source": [
        "max_length = 4\n",
        "dataloader = create_dataloader_v1(\n",
        "    raw_text, batch_size=8, max_length=max_length,\n",
        "    stride=max_length, shuffle=False\n",
        ")\n",
        "data_iter = iter(dataloader)\n",
        "inputs, targets = next(data_iter)"
      ]
    },
    {
      "cell_type": "code",
      "execution_count": 53,
      "id": "84416b60-3707-4370-bcbc-da0b62f2b64d",
      "metadata": {
        "colab": {
          "base_uri": "https://localhost:8080/"
        },
        "id": "84416b60-3707-4370-bcbc-da0b62f2b64d",
        "outputId": "6ffd96ce-403c-45e8-a5c7-1565a94a2b8c"
      },
      "outputs": [
        {
          "output_type": "stream",
          "name": "stdout",
          "text": [
            "Token IDs:\n",
            " tensor([[   40,   367,  2885,  1464],\n",
            "        [ 1807,  3619,   402,   271],\n",
            "        [10899,  2138,   257,  7026],\n",
            "        [15632,   438,  2016,   257],\n",
            "        [  922,  5891,  1576,   438],\n",
            "        [  568,   340,   373,   645],\n",
            "        [ 1049,  5975,   284,   502],\n",
            "        [  284,  3285,   326,    11]])\n",
            "\n",
            "Inputs shape:\n",
            " torch.Size([8, 4])\n"
          ]
        }
      ],
      "source": [
        "print(\"Token IDs:\\n\", inputs)\n",
        "print(\"\\nInputs shape:\\n\", inputs.shape)"
      ]
    },
    {
      "cell_type": "code",
      "execution_count": 54,
      "id": "7766ec38-30d0-4128-8c31-f49f063c43d1",
      "metadata": {
        "colab": {
          "base_uri": "https://localhost:8080/"
        },
        "id": "7766ec38-30d0-4128-8c31-f49f063c43d1",
        "outputId": "60eba696-d019-4340-b270-32934f76957f"
      },
      "outputs": [
        {
          "output_type": "stream",
          "name": "stdout",
          "text": [
            "torch.Size([8, 4, 256])\n"
          ]
        }
      ],
      "source": [
        "token_embeddings = token_embedding_layer(inputs)\n",
        "print(token_embeddings.shape)"
      ]
    },
    {
      "cell_type": "markdown",
      "id": "fe2ae164-6f19-4e32-b9e5-76950fcf1c9f",
      "metadata": {
        "id": "fe2ae164-6f19-4e32-b9e5-76950fcf1c9f"
      },
      "source": [
        "- GPT-2 uses absolute position embeddings, so we just create another embedding layer:"
      ]
    },
    {
      "cell_type": "code",
      "execution_count": 55,
      "id": "cc048e20-7ac8-417e-81f5-8fe6f9a4fe07",
      "metadata": {
        "id": "cc048e20-7ac8-417e-81f5-8fe6f9a4fe07"
      },
      "outputs": [],
      "source": [
        "context_length = max_length\n",
        "pos_embedding_layer = torch.nn.Embedding(context_length, output_dim)"
      ]
    },
    {
      "cell_type": "code",
      "execution_count": 56,
      "id": "c369a1e7-d566-4b53-b398-d6adafb44105",
      "metadata": {
        "colab": {
          "base_uri": "https://localhost:8080/"
        },
        "id": "c369a1e7-d566-4b53-b398-d6adafb44105",
        "outputId": "0ff50b43-7af4-4994-ce51-2ae3679c610a"
      },
      "outputs": [
        {
          "output_type": "stream",
          "name": "stdout",
          "text": [
            "torch.Size([4, 256])\n"
          ]
        }
      ],
      "source": [
        "pos_embeddings = pos_embedding_layer(torch.arange(max_length))\n",
        "print(pos_embeddings.shape)"
      ]
    },
    {
      "cell_type": "markdown",
      "id": "870e9d9f-2935-461a-9518-6d1386b976d6",
      "metadata": {
        "id": "870e9d9f-2935-461a-9518-6d1386b976d6"
      },
      "source": [
        "- To create the input embeddings used in an LLM, we simply add the token and the positional embeddings:"
      ]
    },
    {
      "cell_type": "code",
      "execution_count": 57,
      "id": "b22fab89-526e-43c8-9035-5b7018e34288",
      "metadata": {
        "colab": {
          "base_uri": "https://localhost:8080/"
        },
        "id": "b22fab89-526e-43c8-9035-5b7018e34288",
        "outputId": "d93cb952-009e-47ef-9371-2fed1c5fd1e9"
      },
      "outputs": [
        {
          "output_type": "stream",
          "name": "stdout",
          "text": [
            "torch.Size([8, 4, 256])\n"
          ]
        }
      ],
      "source": [
        "input_embeddings = token_embeddings + pos_embeddings\n",
        "print(input_embeddings.shape)"
      ]
    },
    {
      "cell_type": "markdown",
      "id": "1fbda581-6f9b-476f-8ea7-d244e6a4eaec",
      "metadata": {
        "id": "1fbda581-6f9b-476f-8ea7-d244e6a4eaec"
      },
      "source": [
        "- In the initial phase of the input processing workflow, the input text is segmented into separate tokens\n",
        "- Following this segmentation, these tokens are transformed into token IDs based on a predefined vocabulary:"
      ]
    },
    {
      "cell_type": "markdown",
      "id": "d1bb0f7e-460d-44db-b366-096adcd84fff",
      "metadata": {
        "id": "d1bb0f7e-460d-44db-b366-096adcd84fff"
      },
      "source": [
        "<img src=\"https://sebastianraschka.com/images/LLMs-from-scratch-images/ch02_compressed/19.webp\" width=\"400px\">"
      ]
    },
    {
      "cell_type": "markdown",
      "id": "63230f2e-258f-4497-9e2e-8deee4530364",
      "metadata": {
        "id": "63230f2e-258f-4497-9e2e-8deee4530364"
      },
      "source": [
        "# Summary and takeaways"
      ]
    },
    {
      "cell_type": "markdown",
      "id": "8b3293a6-45a5-47cd-aa00-b23e3ca0a73f",
      "metadata": {
        "id": "8b3293a6-45a5-47cd-aa00-b23e3ca0a73f"
      },
      "source": [
        "See the [./dataloader.ipynb](./dataloader.ipynb) code notebook, which is a concise version of the data loader that we implemented in this chapter and will need for training the GPT model in upcoming chapters.\n",
        "\n",
        "See [./exercise-solutions.ipynb](./exercise-solutions.ipynb) for the exercise solutions."
      ]
    }
  ],
  "metadata": {
    "kernelspec": {
      "display_name": "Python 3 (ipykernel)",
      "language": "python",
      "name": "python3"
    },
    "language_info": {
      "codemirror_mode": {
        "name": "ipython",
        "version": 3
      },
      "file_extension": ".py",
      "mimetype": "text/x-python",
      "name": "python",
      "nbconvert_exporter": "python",
      "pygments_lexer": "ipython3",
      "version": "3.11.4"
    },
    "colab": {
      "provenance": [],
      "include_colab_link": true
    }
  },
  "nbformat": 4,
  "nbformat_minor": 5
}